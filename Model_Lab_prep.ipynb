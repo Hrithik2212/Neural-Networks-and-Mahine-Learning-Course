{
 "cells": [
  {
   "cell_type": "code",
   "execution_count": 11,
   "id": "074c926a",
   "metadata": {},
   "outputs": [],
   "source": [
    "import pandas as pd \n",
    "import numpy as np \n",
    "from sklearn.datasets import load_iris , load_diabetes \n",
    "from sklearn.preprocessing import StandardScaler "
   ]
  },
  {
   "cell_type": "code",
   "execution_count": 32,
   "id": "38bffe1b",
   "metadata": {},
   "outputs": [
    {
     "data": {
      "text/html": [
       "<div>\n",
       "<style scoped>\n",
       "    .dataframe tbody tr th:only-of-type {\n",
       "        vertical-align: middle;\n",
       "    }\n",
       "\n",
       "    .dataframe tbody tr th {\n",
       "        vertical-align: top;\n",
       "    }\n",
       "\n",
       "    .dataframe thead th {\n",
       "        text-align: right;\n",
       "    }\n",
       "</style>\n",
       "<table border=\"1\" class=\"dataframe\">\n",
       "  <thead>\n",
       "    <tr style=\"text-align: right;\">\n",
       "      <th></th>\n",
       "      <th>sepal length (cm)</th>\n",
       "      <th>sepal width (cm)</th>\n",
       "      <th>petal length (cm)</th>\n",
       "      <th>petal width (cm)</th>\n",
       "    </tr>\n",
       "  </thead>\n",
       "  <tbody>\n",
       "    <tr>\n",
       "      <th>0</th>\n",
       "      <td>5.1</td>\n",
       "      <td>3.5</td>\n",
       "      <td>1.4</td>\n",
       "      <td>0.2</td>\n",
       "    </tr>\n",
       "    <tr>\n",
       "      <th>1</th>\n",
       "      <td>4.9</td>\n",
       "      <td>3.0</td>\n",
       "      <td>1.4</td>\n",
       "      <td>0.2</td>\n",
       "    </tr>\n",
       "    <tr>\n",
       "      <th>2</th>\n",
       "      <td>4.7</td>\n",
       "      <td>3.2</td>\n",
       "      <td>1.3</td>\n",
       "      <td>0.2</td>\n",
       "    </tr>\n",
       "    <tr>\n",
       "      <th>3</th>\n",
       "      <td>4.6</td>\n",
       "      <td>3.1</td>\n",
       "      <td>1.5</td>\n",
       "      <td>0.2</td>\n",
       "    </tr>\n",
       "    <tr>\n",
       "      <th>4</th>\n",
       "      <td>5.0</td>\n",
       "      <td>3.6</td>\n",
       "      <td>1.4</td>\n",
       "      <td>0.2</td>\n",
       "    </tr>\n",
       "  </tbody>\n",
       "</table>\n",
       "</div>"
      ],
      "text/plain": [
       "   sepal length (cm)  sepal width (cm)  petal length (cm)  petal width (cm)\n",
       "0                5.1               3.5                1.4               0.2\n",
       "1                4.9               3.0                1.4               0.2\n",
       "2                4.7               3.2                1.3               0.2\n",
       "3                4.6               3.1                1.5               0.2\n",
       "4                5.0               3.6                1.4               0.2"
      ]
     },
     "execution_count": 32,
     "metadata": {},
     "output_type": "execute_result"
    }
   ],
   "source": [
    "data = load_iris()\n",
    "X = pd.DataFrame(data = data['data'],columns = data['feature_names'])\n",
    "X.head()"
   ]
  },
  {
   "cell_type": "code",
   "execution_count": 33,
   "id": "ab2f526f",
   "metadata": {},
   "outputs": [
    {
     "data": {
      "text/plain": [
       "array([0, 0, 0, 0, 0, 0, 0, 0, 0, 0, 0, 0, 0, 0, 0, 0, 0, 0, 0, 0, 0, 0,\n",
       "       0, 0, 0, 0, 0, 0, 0, 0, 0, 0, 0, 0, 0, 0, 0, 0, 0, 0, 0, 0, 0, 0,\n",
       "       0, 0, 0, 0, 0, 0, 1, 1, 1, 1, 1, 1, 1, 1, 1, 1, 1, 1, 1, 1, 1, 1,\n",
       "       1, 1, 1, 1, 1, 1, 1, 1, 1, 1, 1, 1, 1, 1, 1, 1, 1, 1, 1, 1, 1, 1,\n",
       "       1, 1, 1, 1, 1, 1, 1, 1, 1, 1, 1, 1, 2, 2, 2, 2, 2, 2, 2, 2, 2, 2,\n",
       "       2, 2, 2, 2, 2, 2, 2, 2, 2, 2, 2, 2, 2, 2, 2, 2, 2, 2, 2, 2, 2, 2,\n",
       "       2, 2, 2, 2, 2, 2, 2, 2, 2, 2, 2, 2, 2, 2, 2, 2, 2, 2])"
      ]
     },
     "execution_count": 33,
     "metadata": {},
     "output_type": "execute_result"
    }
   ],
   "source": [
    "y = data.target\n",
    "y"
   ]
  },
  {
   "cell_type": "markdown",
   "id": "21d65ae4",
   "metadata": {},
   "source": [
    "# Naive Bayes Classifier"
   ]
  },
  {
   "cell_type": "code",
   "execution_count": 89,
   "id": "7dd63476",
   "metadata": {},
   "outputs": [],
   "source": [
    "class NBC:\n",
    "    def __init__(self):\n",
    "        return None \n",
    "    \n",
    "    def calc_stats(self,X,y):\n",
    "        self.mean = X.groupby(y).apply(np.mean).to_numpy()\n",
    "        self.var = X.groupby(y).apply(np.var).to_numpy()\n",
    "    \n",
    "    def gaussian_density(self,cls_idx ,x):\n",
    "        mean = self.mean[cls_idx]\n",
    "        var = self.var[cls_idx]\n",
    "         #print(x , mean.shape)\n",
    "        numerator = np.exp((-1/2)*((x-mean)**2) / (2*var))\n",
    "        denominator = np.sqrt(2*np.pi*var)\n",
    "        return numerator/denominator\n",
    "    \n",
    "    def calc_prior(self ,x , y ):\n",
    "        self.priors = (x.groupby(y).apply(lambda x :len(x))/self.rows).to_numpy()\n",
    "    \n",
    "    def calc_posterior(self,x):\n",
    "        posteriors = [] \n",
    "        for i in range(self.count):\n",
    "            prior = np.log(self.priors[i])\n",
    "            conditional = np.sum(np.log(self.gaussian_density(i,x)))\n",
    "            posterior = prior + conditional\n",
    "            posteriors.append(posterior)\n",
    "        return self.classes[np.argmax(posteriors)]\n",
    "    \n",
    "    def fit(self , X ,y):\n",
    "        self.classes = np.unique(y)\n",
    "        self.count = len(self.classes)\n",
    "        self.rows = X.shape[0]\n",
    "        \n",
    "        self.calc_stats(X,y)\n",
    "        self.calc_prior(X,y)\n",
    "        \n",
    "    def predict(self, X):\n",
    "        return [self.calc_posterior(f) for f in X.to_numpy()]"
   ]
  },
  {
   "cell_type": "code",
   "execution_count": 90,
   "id": "cae96289",
   "metadata": {},
   "outputs": [],
   "source": [
    "model = NBC()"
   ]
  },
  {
   "cell_type": "code",
   "execution_count": 91,
   "id": "ea9ee65f",
   "metadata": {},
   "outputs": [],
   "source": [
    "model.fit(X,y)\n",
    "y_p = model.predict(X)"
   ]
  },
  {
   "cell_type": "code",
   "execution_count": 92,
   "id": "50aec95c",
   "metadata": {},
   "outputs": [
    {
     "data": {
      "text/plain": [
       "0.96"
      ]
     },
     "execution_count": 92,
     "metadata": {},
     "output_type": "execute_result"
    }
   ],
   "source": [
    "from sklearn.metrics import accuracy_score as a_s\n",
    "a_s(y ,y_p)"
   ]
  },
  {
   "cell_type": "markdown",
   "id": "bf48f793",
   "metadata": {},
   "source": [
    "# PCA vs LDA "
   ]
  },
  {
   "cell_type": "code",
   "execution_count": 95,
   "id": "82cf1d5a",
   "metadata": {},
   "outputs": [],
   "source": [
    "class PCA:\n",
    "    def __init__(self,n_components):\n",
    "        self.n = n_components\n",
    "    \n",
    "    def scale(self,x):\n",
    "        return StandardScaler().fit_transform(x.to_numpy())\n",
    "    \n",
    "    def fit_transform(self,x):\n",
    "        x_scaled = self.scale(x)\n",
    "        features = self.scale(x).T\n",
    "        cov_matrix = np.cov(features)\n",
    "        values , vectors = np.linalg.eig(cov_matrix)\n",
    "        decomp_x = [] \n",
    "        for i in range(self.n):\n",
    "            decomp_x.append(x_scaled.dot(vectors.T[i]))\n",
    "        return np.array(decomp_x)"
   ]
  },
  {
   "cell_type": "code",
   "execution_count": 102,
   "id": "935b2184",
   "metadata": {},
   "outputs": [
    {
     "data": {
      "text/plain": [
       "<matplotlib.collections.PathCollection at 0x19e10c2aa00>"
      ]
     },
     "execution_count": 102,
     "metadata": {},
     "output_type": "execute_result"
    },
    {
     "data": {
      "image/png": "[encoded data removed]",
      "text/plain": [
       "<Figure size 432x288 with 1 Axes>"
      ]
     },
     "metadata": {
      "needs_background": "light"
     },
     "output_type": "display_data"
    }
   ],
   "source": [
    "xp = PCA(n_components=2).fit_transform(X)\n",
    "import matplotlib.pyplot as plt \n",
    "plt.scatter(xp.T[:,0],xp.T[:,1] , c=y)"
   ]
  },
  {
   "cell_type": "code",
   "execution_count": 114,
   "id": "132db922",
   "metadata": {},
   "outputs": [],
   "source": [
    "class LDA:\n",
    "    def __init__(self, n_components):\n",
    "        self.n = n_components \n",
    "        \n",
    "    def fit_transform(self, X ,y ):\n",
    "        X  = np.array(X)\n",
    "        h , w = X.shape\n",
    "        unique_classes = np.unique(y)\n",
    "        num_classes = len(unique_classes)\n",
    "        \n",
    "        scatter_t = np.cov(X.T)*(h-1)\n",
    "        scatter_w = 0 \n",
    "        for i in range(num_classes):\n",
    "            class_items = np.flatnonzero(y==unique_classes[i])\n",
    "            #scatter_w = scatter_w + np.cov(X[class_items].T)*(len(class_items)-1)\n",
    "            scatter_w = scatter_w + np.cov(X[class_items].T) * (len(class_items)-1)\n",
    "        scatter_b = scatter_t - scatter_w \n",
    "        values , vectors = np.linalg.eigh(np.linalg.pinv(scatter_w).dot(scatter_b))\n",
    "        pc = [] \n",
    "        for i in range(self.n):\n",
    "            pc.append(X.dot(vectors.T[i]))\n",
    "        return np.array(pc)        "
   ]
  },
  {
   "cell_type": "code",
   "execution_count": 115,
   "id": "ae45131b",
   "metadata": {},
   "outputs": [
    {
     "data": {
      "text/plain": [
       "<matplotlib.collections.PathCollection at 0x19e10e8a190>"
      ]
     },
     "execution_count": 115,
     "metadata": {},
     "output_type": "execute_result"
    },
    {
     "data": {
      "image/png": "[encoded data removed]",
      "text/plain": [
       "<Figure size 432x288 with 1 Axes>"
      ]
     },
     "metadata": {
      "needs_background": "light"
     },
     "output_type": "display_data"
    }
   ],
   "source": [
    "xp = LDA(n_components=2).fit_transform(X,y)\n",
    "import matplotlib.pyplot as plt \n",
    "plt.scatter(xp.T[:,0],xp.T[:,1] , c=y)"
   ]
  },
  {
   "cell_type": "code",
   "execution_count": 120,
   "id": "f73ae73e",
   "metadata": {},
   "outputs": [
    {
     "data": {
      "text/plain": [
       "<matplotlib.collections.PathCollection at 0x19e10f071f0>"
      ]
     },
     "execution_count": 120,
     "metadata": {},
     "output_type": "execute_result"
    },
    {
     "data": {
      "image/png": "[encoded data removed]",
      "text/plain": [
       "<Figure size 432x288 with 1 Axes>"
      ]
     },
     "metadata": {
      "needs_background": "light"
     },
     "output_type": "display_data"
    }
   ],
   "source": [
    "class LDA :\n",
    "    def __init__(self , n):\n",
    "        self.n = n \n",
    "        \n",
    "    def fit_transform(self,X,y):\n",
    "        X = np.array(X)\n",
    "        h , w = X.shape\n",
    "        unique_classes = np.unique(y)\n",
    "        num_classes = len(unique_classes)\n",
    "        \n",
    "        scatter_t = np.cov(X.T)*(h-1)\n",
    "        scatter_w = 0 \n",
    "        for i in range(num_classes):\n",
    "            class_items = np.flatnonzero(y==unique_classes[i])\n",
    "            scatter_w += np.cov(X[class_items].T)*(len(class_items)-1)\n",
    "        scatter_b = scatter_t - scatter_w \n",
    "        values , vectors  = np.linalg.eigh(np.linalg.pinv(np.dot(scatter_w , scatter_b)))\n",
    "        pc  = [] \n",
    "        for i in range(self.n):\n",
    "            pc.append(X.dot(vectors.T[i]))\n",
    "        return np.array(pc)\n",
    "\n",
    "xp = LDA(n=2).fit_transform(X,y)\n",
    "import matplotlib.pyplot as plt \n",
    "plt.scatter(xp.T[:,0],xp.T[:,1] , c=y)"
   ]
  },
  {
   "cell_type": "markdown",
   "id": "a16e65db",
   "metadata": {},
   "source": [
    "# Som"
   ]
  },
  {
   "cell_type": "code",
   "execution_count": 126,
   "id": "cccc427c",
   "metadata": {},
   "outputs": [],
   "source": [
    "from sklearn.datasets import make_blobs\n",
    "from minisom import MiniSom"
   ]
  },
  {
   "cell_type": "code",
   "execution_count": 159,
   "id": "ebf80651",
   "metadata": {},
   "outputs": [
    {
     "name": "stdout",
     "output_type": "stream",
     "text": [
      "\r",
      " [   0 / 500 ]   0% - ? it/s\r",
      " [   0 / 500 ]   0% - ? it/s\r",
      " [   1 / 500 ]   0% - 0:00:00 left \r",
      " [   2 / 500 ]   0% - 0:00:00 left \r",
      " [   3 / 500 ]   1% - 0:00:00 left \r",
      " [   4 / 500 ]   1% - 0:00:00 left \r",
      " [   5 / 500 ]   1% - 0:00:00 left \r",
      " [   6 / 500 ]   1% - 0:00:00 left \r",
      " [   7 / 500 ]   1% - 0:00:00 left \r",
      " [   8 / 500 ]   2% - 0:00:00 left \r",
      " [   9 / 500 ]   2% - 0:00:00 left \r",
      " [  10 / 500 ]   2% - 0:00:00 left \r",
      " [  11 / 500 ]   2% - 0:00:00 left \r",
      " [  12 / 500 ]   2% - 0:00:00 left \r",
      " [  13 / 500 ]   3% - 0:00:00 left \r",
      " [  14 / 500 ]   3% - 0:00:00 left \r",
      " [  15 / 500 ]   3% - 0:00:00 left \r",
      " [  16 / 500 ]   3% - 0:00:00 left \r",
      " [  17 / 500 ]   3% - 0:00:00 left \r",
      " [  18 / 500 ]   4% - 0:00:00 left \r",
      " [  19 / 500 ]   4% - 0:00:00 left \r",
      " [  20 / 500 ]   4% - 0:00:00 left \r",
      " [  21 / 500 ]   4% - 0:00:00 left \r",
      " [  22 / 500 ]   4% - 0:00:00 left \r",
      " [  23 / 500 ]   5% - 0:00:00 left \r",
      " [  24 / 500 ]   5% - 0:00:00 left \r",
      " [  25 / 500 ]   5% - 0:00:00 left \r",
      " [  26 / 500 ]   5% - 0:00:00 left \r",
      " [  27 / 500 ]   5% - 0:00:00 left \r",
      " [  28 / 500 ]   6% - 0:00:00 left \r",
      " [  29 / 500 ]   6% - 0:00:00 left \r",
      " [  30 / 500 ]   6% - 0:00:00 left \r",
      " [  31 / 500 ]   6% - 0:00:00 left \r",
      " [  32 / 500 ]   6% - 0:00:00 left \r",
      " [  33 / 500 ]   7% - 0:00:00 left \r",
      " [  34 / 500 ]   7% - 0:00:00 left \r",
      " [  35 / 500 ]   7% - 0:00:00 left \r",
      " [  36 / 500 ]   7% - 0:00:00 left \r",
      " [  37 / 500 ]   7% - 0:00:00 left \r",
      " [  38 / 500 ]   8% - 0:00:00 left \r",
      " [  39 / 500 ]   8% - 0:00:00 left \r",
      " [  40 / 500 ]   8% - 0:00:00 left \r",
      " [  41 / 500 ]   8% - 0:00:00 left \r",
      " [  42 / 500 ]   8% - 0:00:00 left \r",
      " [  43 / 500 ]   9% - 0:00:00 left \r",
      " [  44 / 500 ]   9% - 0:00:00 left \r",
      " [  45 / 500 ]   9% - 0:00:00 left \r",
      " [  46 / 500 ]   9% - 0:00:00 left \r",
      " [  47 / 500 ]   9% - 0:00:00 left \r",
      " [  48 / 500 ]  10% - 0:00:00 left \r",
      " [  49 / 500 ]  10% - 0:00:00 left \r",
      " [  50 / 500 ]  10% - 0:00:00 left \r",
      " [  51 / 500 ]  10% - 0:00:00 left \r",
      " [  52 / 500 ]  10% - 0:00:00 left \r",
      " [  53 / 500 ]  11% - 0:00:00 left \r",
      " [  54 / 500 ]  11% - 0:00:00 left \r",
      " [  55 / 500 ]  11% - 0:00:00 left \r",
      " [  56 / 500 ]  11% - 0:00:00 left \r",
      " [  57 / 500 ]  11% - 0:00:00 left \r",
      " [  58 / 500 ]  12% - 0:00:00 left \r",
      " [  59 / 500 ]  12% - 0:00:00 left \r",
      " [  60 / 500 ]  12% - 0:00:00 left \r",
      " [  61 / 500 ]  12% - 0:00:00 left \r",
      " [  62 / 500 ]  12% - 0:00:00 left \r",
      " [  63 / 500 ]  13% - 0:00:00 left \r",
      " [  64 / 500 ]  13% - 0:00:00 left \r",
      " [  65 / 500 ]  13% - 0:00:00 left \r",
      " [  66 / 500 ]  13% - 0:00:00 left \r",
      " [  67 / 500 ]  13% - 0:00:00 left \r",
      " [  68 / 500 ]  14% - 0:00:00 left \r",
      " [  69 / 500 ]  14% - 0:00:00 left \r",
      " [  70 / 500 ]  14% - 0:00:00 left \r",
      " [  71 / 500 ]  14% - 0:00:00 left \r",
      " [  72 / 500 ]  14% - 0:00:00 left \r",
      " [  73 / 500 ]  15% - 0:00:00 left \r",
      " [  74 / 500 ]  15% - 0:00:00 left \r",
      " [  75 / 500 ]  15% - 0:00:00 left \r",
      " [  76 / 500 ]  15% - 0:00:00 left \r",
      " [  77 / 500 ]  15% - 0:00:00 left \r",
      " [  78 / 500 ]  16% - 0:00:00 left \r",
      " [  79 / 500 ]  16% - 0:00:00 left \r",
      " [  80 / 500 ]  16% - 0:00:00 left \r",
      " [  81 / 500 ]  16% - 0:00:00 left \r",
      " [  82 / 500 ]  16% - 0:00:00 left \r",
      " [  83 / 500 ]  17% - 0:00:00 left \r",
      " [  84 / 500 ]  17% - 0:00:00 left \r",
      " [  85 / 500 ]  17% - 0:00:00 left \r",
      " [  86 / 500 ]  17% - 0:00:00 left \r",
      " [  87 / 500 ]  17% - 0:00:00 left \r",
      " [  88 / 500 ]  18% - 0:00:00 left \r",
      " [  89 / 500 ]  18% - 0:00:00 left \r",
      " [  90 / 500 ]  18% - 0:00:00 left \r",
      " [  91 / 500 ]  18% - 0:00:00 left \r",
      " [  92 / 500 ]  18% - 0:00:00 left \r",
      " [  93 / 500 ]  19% - 0:00:00 left \r",
      " [  94 / 500 ]  19% - 0:00:00 left \r",
      " [  95 / 500 ]  19% - 0:00:00 left \r",
      " [  96 / 500 ]  19% - 0:00:00 left \r",
      " [  97 / 500 ]  19% - 0:00:00 left \r",
      " [  98 / 500 ]  20% - 0:00:00 left \r",
      " [  99 / 500 ]  20% - 0:00:00 left \r",
      " [ 100 / 500 ]  20% - 0:00:00 left \r",
      " [ 101 / 500 ]  20% - 0:00:00 left \r",
      " [ 102 / 500 ]  20% - 0:00:00 left \r",
      " [ 103 / 500 ]  21% - 0:00:00 left \r",
      " [ 104 / 500 ]  21% - 0:00:00 left \r",
      " [ 105 / 500 ]  21% - 0:00:00 left \r",
      " [ 106 / 500 ]  21% - 0:00:00 left \r",
      " [ 107 / 500 ]  21% - 0:00:00 left \r",
      " [ 108 / 500 ]  22% - 0:00:00 left \r",
      " [ 109 / 500 ]  22% - 0:00:00 left \r",
      " [ 110 / 500 ]  22% - 0:00:00 left \r",
      " [ 111 / 500 ]  22% - 0:00:00 left \r",
      " [ 112 / 500 ]  22% - 0:00:00 left \r",
      " [ 113 / 500 ]  23% - 0:00:00 left \r",
      " [ 114 / 500 ]  23% - 0:00:00 left \r",
      " [ 115 / 500 ]  23% - 0:00:00 left \r",
      " [ 116 / 500 ]  23% - 0:00:00 left \r",
      " [ 117 / 500 ]  23% - 0:00:00 left \r",
      " [ 118 / 500 ]  24% - 0:00:00 left \r",
      " [ 119 / 500 ]  24% - 0:00:00 left \r",
      " [ 120 / 500 ]  24% - 0:00:00 left \r",
      " [ 121 / 500 ]  24% - 0:00:00 left \r",
      " [ 122 / 500 ]  24% - 0:00:00 left \r",
      " [ 123 / 500 ]  25% - 0:00:00 left \r",
      " [ 124 / 500 ]  25% - 0:00:00 left \r",
      " [ 125 / 500 ]  25% - 0:00:00 left \r",
      " [ 126 / 500 ]  25% - 0:00:00 left \r",
      " [ 127 / 500 ]  25% - 0:00:00 left \r",
      " [ 128 / 500 ]  26% - 0:00:00 left \r",
      " [ 129 / 500 ]  26% - 0:00:00 left \r",
      " [ 130 / 500 ]  26% - 0:00:00 left \r",
      " [ 131 / 500 ]  26% - 0:00:00 left \r",
      " [ 132 / 500 ]  26% - 0:00:00 left \r",
      " [ 133 / 500 ]  27% - 0:00:00 left \r",
      " [ 134 / 500 ]  27% - 0:00:00 left \r",
      " [ 135 / 500 ]  27% - 0:00:00 left \r",
      " [ 136 / 500 ]  27% - 0:00:00 left \r",
      " [ 137 / 500 ]  27% - 0:00:00 left \r",
      " [ 138 / 500 ]  28% - 0:00:00 left \r",
      " [ 139 / 500 ]  28% - 0:00:00 left \r",
      " [ 140 / 500 ]  28% - 0:00:00 left \r",
      " [ 141 / 500 ]  28% - 0:00:00 left \r",
      " [ 142 / 500 ]  28% - 0:00:00 left \r",
      " [ 143 / 500 ]  29% - 0:00:00 left \r",
      " [ 144 / 500 ]  29% - 0:00:00 left \r",
      " [ 145 / 500 ]  29% - 0:00:00 left \r",
      " [ 146 / 500 ]  29% - 0:00:00 left \r",
      " [ 147 / 500 ]  29% - 0:00:00 left \r",
      " [ 148 / 500 ]  30% - 0:00:00 left \r",
      " [ 149 / 500 ]  30% - 0:00:00 left \r",
      " [ 150 / 500 ]  30% - 0:00:00 left \r",
      " [ 151 / 500 ]  30% - 0:00:00 left \r",
      " [ 152 / 500 ]  30% - 0:00:00 left \r",
      " [ 153 / 500 ]  31% - 0:00:00 left \r",
      " [ 154 / 500 ]  31% - 0:00:00 left \r",
      " [ 155 / 500 ]  31% - 0:00:00 left \r",
      " [ 156 / 500 ]  31% - 0:00:00 left \r",
      " [ 157 / 500 ]  31% - 0:00:00 left \r",
      " [ 158 / 500 ]  32% - 0:00:00 left \r",
      " [ 159 / 500 ]  32% - 0:00:00 left \r",
      " [ 160 / 500 ]  32% - 0:00:00 left \r",
      " [ 161 / 500 ]  32% - 0:00:00 left \r",
      " [ 162 / 500 ]  32% - 0:00:00 left \r",
      " [ 163 / 500 ]  33% - 0:00:00 left \r",
      " [ 164 / 500 ]  33% - 0:00:00 left \r",
      " [ 165 / 500 ]  33% - 0:00:00 left \r",
      " [ 166 / 500 ]  33% - 0:00:00 left \r",
      " [ 167 / 500 ]  33% - 0:00:00 left \r",
      " [ 168 / 500 ]  34% - 0:00:00 left \r",
      " [ 169 / 500 ]  34% - 0:00:00 left \r",
      " [ 170 / 500 ]  34% - 0:00:00 left \r",
      " [ 171 / 500 ]  34% - 0:00:00 left \r",
      " [ 172 / 500 ]  34% - 0:00:00 left \r",
      " [ 173 / 500 ]  35% - 0:00:00 left \r",
      " [ 174 / 500 ]  35% - 0:00:00 left \r",
      " [ 175 / 500 ]  35% - 0:00:00 left \r",
      " [ 176 / 500 ]  35% - 0:00:00 left \r",
      " [ 177 / 500 ]  35% - 0:00:00 left \r",
      " [ 178 / 500 ]  36% - 0:00:00 left \r",
      " [ 179 / 500 ]  36% - 0:00:00 left \r",
      " [ 180 / 500 ]  36% - 0:00:00 left \r",
      " [ 181 / 500 ]  36% - 0:00:00 left \r",
      " [ 182 / 500 ]  36% - 0:00:00 left \r",
      " [ 183 / 500 ]  37% - 0:00:00 left \r",
      " [ 184 / 500 ]  37% - 0:00:00 left \r",
      " [ 185 / 500 ]  37% - 0:00:00 left \r",
      " [ 186 / 500 ]  37% - 0:00:00 left \r",
      " [ 187 / 500 ]  37% - 0:00:00 left \r",
      " [ 188 / 500 ]  38% - 0:00:00 left \r",
      " [ 189 / 500 ]  38% - 0:00:00 left \r",
      " [ 190 / 500 ]  38% - 0:00:00 left \r",
      " [ 191 / 500 ]  38% - 0:00:00 left \r",
      " [ 192 / 500 ]  38% - 0:00:00 left \r",
      " [ 193 / 500 ]  39% - 0:00:00 left \r",
      " [ 194 / 500 ]  39% - 0:00:00 left \r",
      " [ 195 / 500 ]  39% - 0:00:00 left \r",
      " [ 196 / 500 ]  39% - 0:00:00 left \r",
      " [ 197 / 500 ]  39% - 0:00:00 left \r",
      " [ 198 / 500 ]  40% - 0:00:00 left \r",
      " [ 199 / 500 ]  40% - 0:00:00 left \r",
      " [ 200 / 500 ]  40% - 0:00:00 left \r",
      " [ 201 / 500 ]  40% - 0:00:00 left \r",
      " [ 202 / 500 ]  40% - 0:00:00 left \r",
      " [ 203 / 500 ]  41% - 0:00:00 left \r",
      " [ 204 / 500 ]  41% - 0:00:00 left \r",
      " [ 205 / 500 ]  41% - 0:00:00 left \r",
      " [ 206 / 500 ]  41% - 0:00:00 left \r",
      " [ 207 / 500 ]  41% - 0:00:00 left \r",
      " [ 208 / 500 ]  42% - 0:00:00 left \r",
      " [ 209 / 500 ]  42% - 0:00:00 left \r",
      " [ 210 / 500 ]  42% - 0:00:00 left \r",
      " [ 211 / 500 ]  42% - 0:00:00 left \r",
      " [ 212 / 500 ]  42% - 0:00:00 left \r",
      " [ 213 / 500 ]  43% - 0:00:00 left \r",
      " [ 214 / 500 ]  43% - 0:00:00 left \r",
      " [ 215 / 500 ]  43% - 0:00:00 left \r",
      " [ 216 / 500 ]  43% - 0:00:00 left \r",
      " [ 217 / 500 ]  43% - 0:00:00 left \r",
      " [ 218 / 500 ]  44% - 0:00:00 left \r",
      " [ 219 / 500 ]  44% - 0:00:00 left \r",
      " [ 220 / 500 ]  44% - 0:00:00 left \r",
      " [ 221 / 500 ]  44% - 0:00:00 left \r",
      " [ 222 / 500 ]  44% - 0:00:00 left \r",
      " [ 223 / 500 ]  45% - 0:00:00 left \r",
      " [ 224 / 500 ]  45% - 0:00:00 left \r",
      " [ 225 / 500 ]  45% - 0:00:00 left \r",
      " [ 226 / 500 ]  45% - 0:00:00 left \r",
      " [ 227 / 500 ]  45% - 0:00:00 left \r",
      " [ 228 / 500 ]  46% - 0:00:00 left \r",
      " [ 229 / 500 ]  46% - 0:00:00 left \r",
      " [ 230 / 500 ]  46% - 0:00:00 left \r",
      " [ 231 / 500 ]  46% - 0:00:00 left \r",
      " [ 232 / 500 ]  46% - 0:00:00 left \r",
      " [ 233 / 500 ]  47% - 0:00:00 left \r",
      " [ 234 / 500 ]  47% - 0:00:00 left \r",
      " [ 235 / 500 ]  47% - 0:00:00 left \r",
      " [ 236 / 500 ]  47% - 0:00:00 left \r",
      " [ 237 / 500 ]  47% - 0:00:00 left \r",
      " [ 238 / 500 ]  48% - 0:00:00 left \r",
      " [ 239 / 500 ]  48% - 0:00:00 left \r",
      " [ 240 / 500 ]  48% - 0:00:00 left \r",
      " [ 241 / 500 ]  48% - 0:00:00 left \r",
      " [ 242 / 500 ]  48% - 0:00:00 left \r",
      " [ 243 / 500 ]  49% - 0:00:00 left \r",
      " [ 244 / 500 ]  49% - 0:00:00 left \r",
      " [ 245 / 500 ]  49% - 0:00:00 left \r",
      " [ 246 / 500 ]  49% - 0:00:00 left \r",
      " [ 247 / 500 ]  49% - 0:00:00 left \r",
      " [ 248 / 500 ]  50% - 0:00:00 left \r",
      " [ 249 / 500 ]  50% - 0:00:00 left \r",
      " [ 250 / 500 ]  50% - 0:00:00 left \r",
      " [ 251 / 500 ]  50% - 0:00:00 left \r",
      " [ 252 / 500 ]  50% - 0:00:00 left \r",
      " [ 253 / 500 ]  51% - 0:00:00 left \r",
      " [ 254 / 500 ]  51% - 0:00:00 left \r",
      " [ 255 / 500 ]  51% - 0:00:00 left \r",
      " [ 256 / 500 ]  51% - 0:00:00 left \r",
      " [ 257 / 500 ]  51% - 0:00:00 left \r",
      " [ 258 / 500 ]  52% - 0:00:00 left \r",
      " [ 259 / 500 ]  52% - 0:00:00 left \r",
      " [ 260 / 500 ]  52% - 0:00:00 left \r",
      " [ 261 / 500 ]  52% - 0:00:00 left \r",
      " [ 262 / 500 ]  52% - 0:00:00 left \r",
      " [ 263 / 500 ]  53% - 0:00:00 left \r",
      " [ 264 / 500 ]  53% - 0:00:00 left \r",
      " [ 265 / 500 ]  53% - 0:00:00 left \r",
      " [ 266 / 500 ]  53% - 0:00:00 left \r",
      " [ 267 / 500 ]  53% - 0:00:00 left \r",
      " [ 268 / 500 ]  54% - 0:00:00 left \r",
      " [ 269 / 500 ]  54% - 0:00:00 left \r",
      " [ 270 / 500 ]  54% - 0:00:00 left \r",
      " [ 271 / 500 ]  54% - 0:00:00 left \r",
      " [ 272 / 500 ]  54% - 0:00:00 left \r",
      " [ 273 / 500 ]  55% - 0:00:00 left \r",
      " [ 274 / 500 ]  55% - 0:00:00 left \r",
      " [ 275 / 500 ]  55% - 0:00:00 left \r",
      " [ 276 / 500 ]  55% - 0:00:00 left \r",
      " [ 277 / 500 ]  55% - 0:00:00 left \r",
      " [ 278 / 500 ]  56% - 0:00:00 left \r",
      " [ 279 / 500 ]  56% - 0:00:00 left \r",
      " [ 280 / 500 ]  56% - 0:00:00 left \r",
      " [ 281 / 500 ]  56% - 0:00:00 left \r",
      " [ 282 / 500 ]  56% - 0:00:00 left \r",
      " [ 283 / 500 ]  57% - 0:00:00 left \r",
      " [ 284 / 500 ]  57% - 0:00:00 left \r",
      " [ 285 / 500 ]  57% - 0:00:00 left \r",
      " [ 286 / 500 ]  57% - 0:00:00 left \r",
      " [ 287 / 500 ]  57% - 0:00:00 left \r",
      " [ 288 / 500 ]  58% - 0:00:00 left \r",
      " [ 289 / 500 ]  58% - 0:00:00 left \r",
      " [ 290 / 500 ]  58% - 0:00:00 left \r",
      " [ 291 / 500 ]  58% - 0:00:00 left \r",
      " [ 292 / 500 ]  58% - 0:00:00 left \r",
      " [ 293 / 500 ]  59% - 0:00:00 left \r",
      " [ 294 / 500 ]  59% - 0:00:00 left \r",
      " [ 295 / 500 ]  59% - 0:00:00 left \r",
      " [ 296 / 500 ]  59% - 0:00:00 left \r",
      " [ 297 / 500 ]  59% - 0:00:00 left \r",
      " [ 298 / 500 ]  60% - 0:00:00 left \r",
      " [ 299 / 500 ]  60% - 0:00:00 left \r",
      " [ 300 / 500 ]  60% - 0:00:00 left \r",
      " [ 301 / 500 ]  60% - 0:00:00 left \r",
      " [ 302 / 500 ]  60% - 0:00:00 left \r",
      " [ 303 / 500 ]  61% - 0:00:00 left \r",
      " [ 304 / 500 ]  61% - 0:00:00 left \r",
      " [ 305 / 500 ]  61% - 0:00:00 left \r",
      " [ 306 / 500 ]  61% - 0:00:00 left \r",
      " [ 307 / 500 ]  61% - 0:00:00 left \r",
      " [ 308 / 500 ]  62% - 0:00:00 left \r",
      " [ 309 / 500 ]  62% - 0:00:00 left \r",
      " [ 310 / 500 ]  62% - 0:00:00 left \r",
      " [ 311 / 500 ]  62% - 0:00:00 left \r",
      " [ 312 / 500 ]  62% - 0:00:00 left \r",
      " [ 313 / 500 ]  63% - 0:00:00 left \r",
      " [ 314 / 500 ]  63% - 0:00:00 left \r",
      " [ 315 / 500 ]  63% - 0:00:00 left \r",
      " [ 316 / 500 ]  63% - 0:00:00 left \r",
      " [ 317 / 500 ]  63% - 0:00:00 left \r",
      " [ 318 / 500 ]  64% - 0:00:00 left \r",
      " [ 319 / 500 ]  64% - 0:00:00 left \r",
      " [ 320 / 500 ]  64% - 0:00:00 left \r",
      " [ 321 / 500 ]  64% - 0:00:00 left \r",
      " [ 322 / 500 ]  64% - 0:00:00 left \r",
      " [ 323 / 500 ]  65% - 0:00:00 left \r",
      " [ 324 / 500 ]  65% - 0:00:00 left \r",
      " [ 325 / 500 ]  65% - 0:00:00 left \r",
      " [ 326 / 500 ]  65% - 0:00:00 left \r",
      " [ 327 / 500 ]  65% - 0:00:00 left \r",
      " [ 328 / 500 ]  66% - 0:00:00 left \r",
      " [ 329 / 500 ]  66% - 0:00:00 left \r",
      " [ 330 / 500 ]  66% - 0:00:00 left \r",
      " [ 331 / 500 ]  66% - 0:00:00 left \r",
      " [ 332 / 500 ]  66% - 0:00:00 left \r",
      " [ 333 / 500 ]  67% - 0:00:00 left \r",
      " [ 334 / 500 ]  67% - 0:00:00 left \r",
      " [ 335 / 500 ]  67% - 0:00:00 left \r",
      " [ 336 / 500 ]  67% - 0:00:00 left \r",
      " [ 337 / 500 ]  67% - 0:00:00 left \r",
      " [ 338 / 500 ]  68% - 0:00:00 left \r",
      " [ 339 / 500 ]  68% - 0:00:00 left \r",
      " [ 340 / 500 ]  68% - 0:00:00 left \r",
      " [ 341 / 500 ]  68% - 0:00:00 left \r",
      " [ 342 / 500 ]  68% - 0:00:00 left \r",
      " [ 343 / 500 ]  69% - 0:00:00 left \r",
      " [ 344 / 500 ]  69% - 0:00:00 left \r",
      " [ 345 / 500 ]  69% - 0:00:00 left \r",
      " [ 346 / 500 ]  69% - 0:00:00 left \r",
      " [ 347 / 500 ]  69% - 0:00:00 left \r",
      " [ 348 / 500 ]  70% - 0:00:00 left \r",
      " [ 349 / 500 ]  70% - 0:00:00 left \r",
      " [ 350 / 500 ]  70% - 0:00:00 left \r",
      " [ 351 / 500 ]  70% - 0:00:00 left \r",
      " [ 352 / 500 ]  70% - 0:00:00 left \r",
      " [ 353 / 500 ]  71% - 0:00:00 left \r",
      " [ 354 / 500 ]  71% - 0:00:00 left \r",
      " [ 355 / 500 ]  71% - 0:00:00 left \r",
      " [ 356 / 500 ]  71% - 0:00:00 left \r",
      " [ 357 / 500 ]  71% - 0:00:00 left \r",
      " [ 358 / 500 ]  72% - 0:00:00 left \r",
      " [ 359 / 500 ]  72% - 0:00:00 left \r",
      " [ 360 / 500 ]  72% - 0:00:00 left \r",
      " [ 361 / 500 ]  72% - 0:00:00 left \r",
      " [ 362 / 500 ]  72% - 0:00:00 left \r",
      " [ 363 / 500 ]  73% - 0:00:00 left \r",
      " [ 364 / 500 ]  73% - 0:00:00 left \r",
      " [ 365 / 500 ]  73% - 0:00:00 left \r",
      " [ 366 / 500 ]  73% - 0:00:00 left \r",
      " [ 367 / 500 ]  73% - 0:00:00 left \r",
      " [ 368 / 500 ]  74% - 0:00:00 left \r",
      " [ 369 / 500 ]  74% - 0:00:00 left \r",
      " [ 370 / 500 ]  74% - 0:00:00 left \r",
      " [ 371 / 500 ]  74% - 0:00:00 left \r",
      " [ 372 / 500 ]  74% - 0:00:00 left \r",
      " [ 373 / 500 ]  75% - 0:00:00 left \r",
      " [ 374 / 500 ]  75% - 0:00:00 left \r",
      " [ 375 / 500 ]  75% - 0:00:00 left \r",
      " [ 376 / 500 ]  75% - 0:00:00 left \r",
      " [ 377 / 500 ]  75% - 0:00:00 left \r",
      " [ 378 / 500 ]  76% - 0:00:00 left \r",
      " [ 379 / 500 ]  76% - 0:00:00 left \r",
      " [ 380 / 500 ]  76% - 0:00:00 left \r",
      " [ 381 / 500 ]  76% - 0:00:00 left \r",
      " [ 382 / 500 ]  76% - 0:00:00 left \r",
      " [ 383 / 500 ]  77% - 0:00:00 left \r",
      " [ 384 / 500 ]  77% - 0:00:00 left \r",
      " [ 385 / 500 ]  77% - 0:00:00 left \r",
      " [ 386 / 500 ]  77% - 0:00:00 left \r",
      " [ 387 / 500 ]  77% - 0:00:00 left \r",
      " [ 388 / 500 ]  78% - 0:00:00 left \r",
      " [ 389 / 500 ]  78% - 0:00:00 left \r",
      " [ 390 / 500 ]  78% - 0:00:00 left \r",
      " [ 391 / 500 ]  78% - 0:00:00 left \r",
      " [ 392 / 500 ]  78% - 0:00:00 left \r",
      " [ 393 / 500 ]  79% - 0:00:00 left \r",
      " [ 394 / 500 ]  79% - 0:00:00 left \r",
      " [ 395 / 500 ]  79% - 0:00:00 left \r",
      " [ 396 / 500 ]  79% - 0:00:00 left \r",
      " [ 397 / 500 ]  79% - 0:00:00 left \r",
      " [ 398 / 500 ]  80% - 0:00:00 left \r",
      " [ 399 / 500 ]  80% - 0:00:00 left \r",
      " [ 400 / 500 ]  80% - 0:00:00 left \r",
      " [ 401 / 500 ]  80% - 0:00:00 left \r",
      " [ 402 / 500 ]  80% - 0:00:00 left \r",
      " [ 403 / 500 ]  81% - 0:00:00 left \r",
      " [ 404 / 500 ]  81% - 0:00:00 left \r",
      " [ 405 / 500 ]  81% - 0:00:00 left \r",
      " [ 406 / 500 ]  81% - 0:00:00 left \r",
      " [ 407 / 500 ]  81% - 0:00:00 left \r",
      " [ 408 / 500 ]  82% - 0:00:00 left \r",
      " [ 409 / 500 ]  82% - 0:00:00 left \r",
      " [ 410 / 500 ]  82% - 0:00:00 left \r",
      " [ 411 / 500 ]  82% - 0:00:00 left \r",
      " [ 412 / 500 ]  82% - 0:00:00 left \r",
      " [ 413 / 500 ]  83% - 0:00:00 left \r",
      " [ 414 / 500 ]  83% - 0:00:00 left \r",
      " [ 415 / 500 ]  83% - 0:00:00 left \r",
      " [ 416 / 500 ]  83% - 0:00:00 left \r",
      " [ 417 / 500 ]  83% - 0:00:00 left \r",
      " [ 418 / 500 ]  84% - 0:00:00 left \r",
      " [ 419 / 500 ]  84% - 0:00:00 left \r",
      " [ 420 / 500 ]  84% - 0:00:00 left \r",
      " [ 421 / 500 ]  84% - 0:00:00 left \r",
      " [ 422 / 500 ]  84% - 0:00:00 left \r",
      " [ 423 / 500 ]  85% - 0:00:00 left \r",
      " [ 424 / 500 ]  85% - 0:00:00 left \r",
      " [ 425 / 500 ]  85% - 0:00:00 left \r",
      " [ 426 / 500 ]  85% - 0:00:00 left \r",
      " [ 427 / 500 ]  85% - 0:00:00 left \r",
      " [ 428 / 500 ]  86% - 0:00:00 left \r",
      " [ 429 / 500 ]  86% - 0:00:00 left \r",
      " [ 430 / 500 ]  86% - 0:00:00 left \r",
      " [ 431 / 500 ]  86% - 0:00:00 left \r",
      " [ 432 / 500 ]  86% - 0:00:00 left \r",
      " [ 433 / 500 ]  87% - 0:00:00 left \r",
      " [ 434 / 500 ]  87% - 0:00:00 left \r",
      " [ 435 / 500 ]  87% - 0:00:00 left \r",
      " [ 436 / 500 ]  87% - 0:00:00 left \r",
      " [ 437 / 500 ]  87% - 0:00:00 left \r",
      " [ 438 / 500 ]  88% - 0:00:00 left \r",
      " [ 439 / 500 ]  88% - 0:00:00 left \r",
      " [ 440 / 500 ]  88% - 0:00:00 left \r",
      " [ 441 / 500 ]  88% - 0:00:00 left \r",
      " [ 442 / 500 ]  88% - 0:00:00 left \r",
      " [ 443 / 500 ]  89% - 0:00:00 left \r",
      " [ 444 / 500 ]  89% - 0:00:00 left \r",
      " [ 445 / 500 ]  89% - 0:00:00 left \r",
      " [ 446 / 500 ]  89% - 0:00:00 left \r",
      " [ 447 / 500 ]  89% - 0:00:00 left \r",
      " [ 448 / 500 ]  90% - 0:00:00 left \r",
      " [ 449 / 500 ]  90% - 0:00:00 left \r",
      " [ 450 / 500 ]  90% - 0:00:00 left \r",
      " [ 451 / 500 ]  90% - 0:00:00 left \r",
      " [ 452 / 500 ]  90% - 0:00:00 left \r",
      " [ 453 / 500 ]  91% - 0:00:00 left \r",
      " [ 454 / 500 ]  91% - 0:00:00 left \r",
      " [ 455 / 500 ]  91% - 0:00:00 left \r",
      " [ 456 / 500 ]  91% - 0:00:00 left \r",
      " [ 457 / 500 ]  91% - 0:00:00 left \r",
      " [ 458 / 500 ]  92% - 0:00:00 left \r",
      " [ 459 / 500 ]  92% - 0:00:00 left \r",
      " [ 460 / 500 ]  92% - 0:00:00 left \r",
      " [ 461 / 500 ]  92% - 0:00:00 left \r",
      " [ 462 / 500 ]  92% - 0:00:00 left \r",
      " [ 463 / 500 ]  93% - 0:00:00 left \r",
      " [ 464 / 500 ]  93% - 0:00:00 left \r",
      " [ 465 / 500 ]  93% - 0:00:00 left \r",
      " [ 466 / 500 ]  93% - 0:00:00 left \r",
      " [ 467 / 500 ]  93% - 0:00:00 left \r",
      " [ 468 / 500 ]  94% - 0:00:00 left \r",
      " [ 469 / 500 ]  94% - 0:00:00 left \r",
      " [ 470 / 500 ]  94% - 0:00:00 left \r",
      " [ 471 / 500 ]  94% - 0:00:00 left \r",
      " [ 472 / 500 ]  94% - 0:00:00 left \r",
      " [ 473 / 500 ]  95% - 0:00:00 left \r",
      " [ 474 / 500 ]  95% - 0:00:00 left \r",
      " [ 475 / 500 ]  95% - 0:00:00 left \r",
      " [ 476 / 500 ]  95% - 0:00:00 left \r",
      " [ 477 / 500 ]  95% - 0:00:00 left \r",
      " [ 478 / 500 ]  96% - 0:00:00 left \r",
      " [ 479 / 500 ]  96% - 0:00:00 left \r",
      " [ 480 / 500 ]  96% - 0:00:00 left \r",
      " [ 481 / 500 ]  96% - 0:00:00 left \r",
      " [ 482 / 500 ]  96% - 0:00:00 left \r",
      " [ 483 / 500 ]  97% - 0:00:00 left \r",
      " [ 484 / 500 ]  97% - 0:00:00 left \r",
      " [ 485 / 500 ]  97% - 0:00:00 left \r",
      " [ 486 / 500 ]  97% - 0:00:00 left \r",
      " [ 487 / 500 ]  97% - 0:00:00 left \r",
      " [ 488 / 500 ]  98% - 0:00:00 left \r",
      " [ 489 / 500 ]  98% - 0:00:00 left \r",
      " [ 490 / 500 ]  98% - 0:00:00 left \r",
      " [ 491 / 500 ]  98% - 0:00:00 left \r",
      " [ 492 / 500 ]  98% - 0:00:00 left \r",
      " [ 493 / 500 ]  99% - 0:00:00 left \r",
      " [ 494 / 500 ]  99% - 0:00:00 left \r",
      " [ 495 / 500 ]  99% - 0:00:00 left \r",
      " [ 496 / 500 ]  99% - 0:00:00 left \r",
      " [ 497 / 500 ]  99% - 0:00:00 left \r",
      " [ 498 / 500 ] 100% - 0:00:00 left \r",
      " [ 499 / 500 ] 100% - 0:00:00 left \r",
      " [ 500 / 500 ] 100% - 0:00:00 left \n",
      " quantization error: 0.6288900969443654\n"
     ]
    }
   ],
   "source": [
    "X, y = make_blobs(n_samples=100, centers=3, n_features=2, random_state=0 ,cluster_std =0.5)\n",
    "som_shape = (1,3)\n",
    "model = MiniSom(som_shape[0] , \n",
    "                som_shape[1] , \n",
    "                X.shape[1],\n",
    "                sigma = 0.5 , \n",
    "                learning_rate = 0.5\n",
    ")\n",
    "model.train_batch(X , 500 ,verbose =True)"
   ]
  },
  {
   "cell_type": "code",
   "execution_count": 160,
   "id": "d1da3b63",
   "metadata": {},
   "outputs": [],
   "source": [
    "winner_coordinates = np.array([model.winner(x) for x in X]).T\n"
   ]
  },
  {
   "cell_type": "code",
   "execution_count": 161,
   "id": "502c93b1",
   "metadata": {},
   "outputs": [],
   "source": [
    "cluster_index = np.ravel_multi_index(winner_coordinates, som_shape)\n"
   ]
  },
  {
   "cell_type": "code",
   "execution_count": 164,
   "id": "1d865c0c",
   "metadata": {},
   "outputs": [
    {
     "data": {
      "text/plain": [
       "<matplotlib.collections.PathCollection at 0x19e123103d0>"
      ]
     },
     "execution_count": 164,
     "metadata": {},
     "output_type": "execute_result"
    },
    {
     "data": {
      "image/png": "[encoded data removed]",
      "text/plain": [
       "<Figure size 432x288 with 1 Axes>"
      ]
     },
     "metadata": {
      "needs_background": "light"
     },
     "output_type": "display_data"
    }
   ],
   "source": [
    "plt.scatter(X[:,0],X[:,1],c=cluster_index)\n",
    "centroids = model.get_weights()[0]\n",
    "plt.scatter(centroids[:,0],centroids[:,1],marker='x',s=45,color='r')"
   ]
  },
  {
   "cell_type": "code",
   "execution_count": 154,
   "id": "b0bda1ac",
   "metadata": {},
   "outputs": [
    {
     "name": "stdout",
     "output_type": "stream",
     "text": [
      "Help on function make_blobs in module sklearn.datasets._samples_generator:\n",
      "\n",
      "make_blobs(n_samples=100, n_features=2, *, centers=None, cluster_std=1.0, center_box=(-10.0, 10.0), shuffle=True, random_state=None, return_centers=False)\n",
      "    Generate isotropic Gaussian blobs for clustering.\n",
      "    \n",
      "    Read more in the :ref:`User Guide <sample_generators>`.\n",
      "    \n",
      "    Parameters\n",
      "    ----------\n",
      "    n_samples : int or array-like, default=100\n",
      "        If int, it is the total number of points equally divided among\n",
      "        clusters.\n",
      "        If array-like, each element of the sequence indicates\n",
      "        the number of samples per cluster.\n",
      "    \n",
      "        .. versionchanged:: v0.20\n",
      "            one can now pass an array-like to the ``n_samples`` parameter\n",
      "    \n",
      "    n_features : int, default=2\n",
      "        The number of features for each sample.\n",
      "    \n",
      "    centers : int or ndarray of shape (n_centers, n_features), default=None\n",
      "        The number of centers to generate, or the fixed center locations.\n",
      "        If n_samples is an int and centers is None, 3 centers are generated.\n",
      "        If n_samples is array-like, centers must be\n",
      "        either None or an array of length equal to the length of n_samples.\n",
      "    \n",
      "    cluster_std : float or array-like of float, default=1.0\n",
      "        The standard deviation of the clusters.\n",
      "    \n",
      "    center_box : tuple of float (min, max), default=(-10.0, 10.0)\n",
      "        The bounding box for each cluster center when centers are\n",
      "        generated at random.\n",
      "    \n",
      "    shuffle : bool, default=True\n",
      "        Shuffle the samples.\n",
      "    \n",
      "    random_state : int, RandomState instance or None, default=None\n",
      "        Determines random number generation for dataset creation. Pass an int\n",
      "        for reproducible output across multiple function calls.\n",
      "        See :term:`Glossary <random_state>`.\n",
      "    \n",
      "    return_centers : bool, default=False\n",
      "        If True, then return the centers of each cluster\n",
      "    \n",
      "        .. versionadded:: 0.23\n",
      "    \n",
      "    Returns\n",
      "    -------\n",
      "    X : ndarray of shape (n_samples, n_features)\n",
      "        The generated samples.\n",
      "    \n",
      "    y : ndarray of shape (n_samples,)\n",
      "        The integer labels for cluster membership of each sample.\n",
      "    \n",
      "    centers : ndarray of shape (n_centers, n_features)\n",
      "        The centers of each cluster. Only returned if\n",
      "        ``return_centers=True``.\n",
      "    \n",
      "    Examples\n",
      "    --------\n",
      "    >>> from sklearn.datasets import make_blobs\n",
      "    >>> X, y = make_blobs(n_samples=10, centers=3, n_features=2,\n",
      "    ...                   random_state=0)\n",
      "    >>> print(X.shape)\n",
      "    (10, 2)\n",
      "    >>> y\n",
      "    array([0, 0, 1, 0, 2, 2, 2, 1, 1, 0])\n",
      "    >>> X, y = make_blobs(n_samples=[3, 3, 4], centers=None, n_features=2,\n",
      "    ...                   random_state=0)\n",
      "    >>> print(X.shape)\n",
      "    (10, 2)\n",
      "    >>> y\n",
      "    array([0, 1, 2, 0, 2, 2, 2, 1, 1, 0])\n",
      "    \n",
      "    See Also\n",
      "    --------\n",
      "    make_classification : A more intricate variant.\n",
      "\n"
     ]
    }
   ],
   "source": [
    "help(make_blobs)"
   ]
  },
  {
   "cell_type": "code",
   "execution_count": 150,
   "id": "40918d8f",
   "metadata": {},
   "outputs": [
    {
     "data": {
      "text/plain": [
       "array([[ 2.2941258 ,  1.48744335],\n",
       "       [ 0.74456683,  3.75586647],\n",
       "       [-2.01830756,  2.86471634]])"
      ]
     },
     "execution_count": 150,
     "metadata": {},
     "output_type": "execute_result"
    }
   ],
   "source": [
    "model.get_weights()[0]"
   ]
  },
  {
   "cell_type": "code",
   "execution_count": 152,
   "id": "69073841",
   "metadata": {},
   "outputs": [
    {
     "data": {
      "text/plain": [
       "(array([ 2.2941258 ,  0.74456683, -2.01830756]),\n",
       " array([1.48744335, 3.75586647, 2.86471634]))"
      ]
     },
     "execution_count": 152,
     "metadata": {},
     "output_type": "execute_result"
    }
   ],
   "source": [
    "centroids[:,0],centroids[:,1]"
   ]
  },
  {
   "cell_type": "markdown",
   "id": "65172171",
   "metadata": {},
   "source": [
    "# Hidden Markov Model"
   ]
  },
  {
   "cell_type": "code",
   "execution_count": 165,
   "id": "4dbd4055",
   "metadata": {},
   "outputs": [
    {
     "name": "stdout",
     "output_type": "stream",
     "text": [
      "Collecting hmmlearn\n",
      "  Downloading hmmlearn-0.3.0-cp39-cp39-win_amd64.whl (123 kB)\n",
      "     -------------------------------------- 123.8/123.8 kB 1.0 MB/s eta 0:00:00\n",
      "Requirement already satisfied: numpy>=1.10 in d:\\computer science\\lib\\site-packages (from hmmlearn) (1.19.5)\n",
      "Requirement already satisfied: scikit-learn!=0.22.0,>=0.16 in d:\\computer science\\lib\\site-packages (from hmmlearn) (1.0.2)\n",
      "Requirement already satisfied: scipy>=0.19 in d:\\computer science\\lib\\site-packages (from hmmlearn) (1.7.3)\n",
      "Requirement already satisfied: joblib>=0.11 in d:\\computer science\\lib\\site-packages (from scikit-learn!=0.22.0,>=0.16->hmmlearn) (1.1.0)\n",
      "Requirement already satisfied: threadpoolctl>=2.0.0 in d:\\computer science\\lib\\site-packages (from scikit-learn!=0.22.0,>=0.16->hmmlearn) (3.0.0)\n",
      "Installing collected packages: hmmlearn\n",
      "Successfully installed hmmlearn-0.3.0\n"
     ]
    },
    {
     "name": "stderr",
     "output_type": "stream",
     "text": [
      "WARNING: Ignoring invalid distribution -ip (d:\\computer science\\lib\\site-packages)\n",
      "WARNING: Ignoring invalid distribution -ip (d:\\computer science\\lib\\site-packages)\n"
     ]
    }
   ],
   "source": [
    "!pip install hmmlearn"
   ]
  },
  {
   "cell_type": "code",
   "execution_count": 169,
   "id": "583b0247",
   "metadata": {},
   "outputs": [
    {
     "data": {
      "text/plain": [
       "150"
      ]
     },
     "execution_count": 169,
     "metadata": {},
     "output_type": "execute_result"
    }
   ],
   "source": [
    "from hmmlearn import hmm\n",
    "data = load_iris()\n",
    "X = pd.DataFrame(data = data['data'],columns = data['feature_names'])\n",
    "X.head()\n",
    "model = hmm.GaussianHMM(n_components=3,covariance_type='diag')\n",
    "model.fit(X)\n",
    "y_pred = model.predict(X)\n",
    "len(y_pred)"
   ]
  },
  {
   "cell_type": "markdown",
   "id": "3f647c88",
   "metadata": {},
   "source": [
    "# BPNN"
   ]
  },
  {
   "cell_type": "code",
   "execution_count": 256,
   "id": "d8775801",
   "metadata": {},
   "outputs": [],
   "source": [
    "class BPNN:\n",
    "    def __init__(self,input_size , hidden_size , output_size):\n",
    "        self.input_size = input_size\n",
    "        self.output_size = output_size \n",
    "        self.hidden_size = hidden_size\n",
    "        \n",
    "        self.weight_ih = np.random.randn(self.input_size , self.hidden_size)\n",
    "        self.bias_h = np.random.randn(self.hidden_size)\n",
    "        self.weight_ho = np.random.randn(self.hidden_size , self.output_size)\n",
    "        self.bias_o = np.random.randn(self.output_size)\n",
    "        \n",
    "    def sigmoid(self,x):\n",
    "        return 1/(1+np.exp(-x))\n",
    "    \n",
    "    def sig_der(self,x):\n",
    "        return x * (1-x)\n",
    "    \n",
    "    def forward(self,x):\n",
    "        x = np.dot(x , self.weight_ih) + self.bias_h\n",
    "        x = self.sigmoid(x)\n",
    "        x = np.dot(x , self.weight_ho) + self.bias_o\n",
    "        return self.sigmoid(x)\n",
    "    \n",
    "    def backward(self,x,y,y_pred):\n",
    "        o_error = y.reshape(-1,1) - y_pred \n",
    "        o_delta = o_error * self.sig_der(y_pred)\n",
    "        \n",
    "        h_error = np.dot(o_delta , self.weight_ho.T)\n",
    "        h_delta = h_error + self.sig_der(h_error)\n",
    "        \n",
    "        self.weight_ho += np.dot(h_delta.T , o_delta )\n",
    "        self.bias_o += np.sum(o_delta ,axis=0)\n",
    "        \n",
    "        self.weight_ih += np.dot(x.T , h_delta )\n",
    "        self.bias_h += np.sum(h_delta , axis=0)\n",
    "        \n",
    "    def train(self,X,y,epochs):\n",
    "        for i in range(epochs):\n",
    "            y_pred = self.forward(X)\n",
    "            #  print(y_pred[:,0].shape , y.shape)\n",
    "            self.backward(X , y ,y_pred)\n",
    "            mse = np.mean((y-y_pred)**2)\n",
    "            print(f'Epoch {i} Error : {mse}')\n",
    "    def predict(self , x):\n",
    "        return self.forward(x)"
   ]
  },
  {
   "cell_type": "code",
   "execution_count": 257,
   "id": "9b424546",
   "metadata": {},
   "outputs": [],
   "source": [
    "X, y = make_blobs(n_samples=100, centers=2, n_features=2, random_state=0 ,cluster_std =0.5)"
   ]
  },
  {
   "cell_type": "code",
   "execution_count": 258,
   "id": "41460c1b",
   "metadata": {},
   "outputs": [
    {
     "name": "stdout",
     "output_type": "stream",
     "text": [
      "Epoch 0 Error : 0.25304821780491915\n",
      "Epoch 1 Error : 0.47379857680265197\n",
      "Epoch 2 Error : 0.48195697803516313\n",
      "Epoch 3 Error : 0.4402406710516707\n",
      "Epoch 4 Error : 0.49651059426326266\n",
      "Epoch 5 Error : 0.45458544200397216\n",
      "Epoch 6 Error : 0.48027611396983894\n",
      "Epoch 7 Error : 0.484652021764293\n",
      "Epoch 8 Error : 0.48259777199088155\n",
      "Epoch 9 Error : 0.4796637613355022\n"
     ]
    },
    {
     "name": "stderr",
     "output_type": "stream",
     "text": [
      "C:\\Users\\HRITHI~1\\AppData\\Local\\Temp/ipykernel_24204/517466735.py:13: RuntimeWarning: overflow encountered in exp\n",
      "  return 1/(1+np.exp(-x))\n"
     ]
    }
   ],
   "source": [
    "model = BPNN(2,5,1)\n",
    "model.train(X,y,10)"
   ]
  },
  {
   "cell_type": "code",
   "execution_count": 259,
   "id": "24c19b95",
   "metadata": {},
   "outputs": [
    {
     "name": "stderr",
     "output_type": "stream",
     "text": [
      "C:\\Users\\HRITHI~1\\AppData\\Local\\Temp/ipykernel_24204/517466735.py:13: RuntimeWarning: overflow encountered in exp\n",
      "  return 1/(1+np.exp(-x))\n"
     ]
    },
    {
     "data": {
      "text/plain": [
       "0.99"
      ]
     },
     "execution_count": 259,
     "metadata": {},
     "output_type": "execute_result"
    }
   ],
   "source": [
    "y_pred = model.predict(X)\n",
    "a_s(y,np.round(y_pred))"
   ]
  },
  {
   "cell_type": "code",
   "execution_count": null,
   "id": "ddba6249",
   "metadata": {},
   "outputs": [],
   "source": []
  }
 ],
 "metadata": {
  "kernelspec": {
   "display_name": "Python 3 (ipykernel)",
   "language": "python",
   "name": "python3"
  },
  "language_info": {
   "codemirror_mode": {
    "name": "ipython",
    "version": 3
   },
   "file_extension": ".py",
   "mimetype": "text/x-python",
   "name": "python",
   "nbconvert_exporter": "python",
   "pygments_lexer": "ipython3",
   "version": "3.9.6"
  }
 },
 "nbformat": 4,
 "nbformat_minor": 5
}
