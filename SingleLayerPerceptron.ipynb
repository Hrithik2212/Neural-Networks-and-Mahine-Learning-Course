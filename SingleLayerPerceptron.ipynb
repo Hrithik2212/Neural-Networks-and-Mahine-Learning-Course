{
  "nbformat": 4,
  "nbformat_minor": 0,
  "metadata": {
    "colab": {
      "provenance": [],
      "authorship_tag": "ABX9TyPgLaiNbb2rk1Z47YbVFIoq",
      "include_colab_link": true
    },
    "kernelspec": {
      "name": "python3",
      "display_name": "Python 3"
    },
    "language_info": {
      "name": "python"
    }
  },
  "cells": [
    {
      "cell_type": "markdown",
      "metadata": {
        "id": "view-in-github",
        "colab_type": "text"
      },
      "source": [
        "<a href=\"https://colab.research.google.com/github/Hrithik2212/Neural-Networks-and-Mahine-Learning-Course/blob/main/SingleLayerPerceptron.ipynb\" target=\"_parent\"><img src=\"https://colab.research.google.com/assets/colab-badge.svg\" alt=\"Open In Colab\"/></a>"
      ]
    },
    {
      "cell_type": "code",
      "execution_count": null,
      "metadata": {
        "id": "wtddzjAyQCdW"
      },
      "outputs": [],
      "source": [
        "import numpy as np"
      ]
    },
    {
      "cell_type": "code",
      "source": [
        "class SingleLayerPerceptron():\n",
        "\n",
        "  def __init__(self, learning_rate =0.01 , n_iters = 1000):\n",
        "    self.lr = learning_rate \n",
        "    self.n_iters = n_iters \n",
        "    self.w = None \n",
        "    self.b = None \n",
        "    self.act_fn = self.relu\n",
        "\n",
        "  def unit_step(self , x):\n",
        "    return (1 if x >= 0 else 0)\n",
        "\n",
        "  def relu(self,x):\n",
        "    return (x if x >= 0 else 0)\n",
        "\n",
        "  def fit(self , X , y):\n",
        "    n_rows , n_features = np.array(X).shape\n",
        "\n",
        "    self.w = np.zeros(n_features)\n",
        "    self.b = 0 \n",
        "\n",
        "    \n",
        "    for i in range(self.n_iters):\n",
        "      for ix , row in enumerate(X):\n",
        "\n",
        "        dot_product = np.dot(row , self.w) + self.b\n",
        "        predict_output = self.act_fn(dot_product)\n",
        "\n",
        "        update = self.lr * (y[ix] - predict_output)\n",
        "        self.w += update * row\n",
        "        self.b += update \n",
        "      \n",
        "\n",
        "  \n",
        "  def predict(self , X ):\n",
        "    n_rows , n_features = X.shape \n",
        "\n",
        "    y_pred = [] \n",
        "    for ix , row in enumerate(X):\n",
        "      y_pred.append(self.act_fn(np.dot(row , self.w) + self.b))\n",
        "\n",
        "    return np.array(y_pred)"
      ],
      "metadata": {
        "id": "b025wuC4QKFX"
      },
      "execution_count": null,
      "outputs": []
    },
    {
      "cell_type": "code",
      "source": [
        "np.random.seed(123)\n",
        "X = np.random.rand(100, 2)\n",
        "y = 2*X[:,0] + 3*X[:,1] + 4 + np.random.randn(100)\n",
        "\n",
        "# Split data into training and testing sets\n",
        "split = int(0.8 * len(X))\n",
        "X_train, y_train = X[:split], y[:split]\n",
        "X_test, y_test = X[split:], y[split:]\n"
      ],
      "metadata": {
        "id": "TUl43NedT7S-"
      },
      "execution_count": null,
      "outputs": []
    },
    {
      "cell_type": "code",
      "source": [
        "perceptron = SingleLayerPerceptron()"
      ],
      "metadata": {
        "id": "taFhMIntUXSZ"
      },
      "execution_count": null,
      "outputs": []
    },
    {
      "cell_type": "code",
      "source": [
        "perceptron.fit(X_train,y_train)"
      ],
      "metadata": {
        "id": "dTfR5O5UU11a"
      },
      "execution_count": null,
      "outputs": []
    },
    {
      "cell_type": "code",
      "source": [
        "y_pred = perceptron.predict(X_test)"
      ],
      "metadata": {
        "id": "qrWVjpujVBFH"
      },
      "execution_count": null,
      "outputs": []
    },
    {
      "cell_type": "code",
      "source": [
        "print(perceptron.w) , print(perceptron.b)"
      ],
      "metadata": {
        "colab": {
          "base_uri": "https://localhost:8080/"
        },
        "id": "U38A6JhXZ_gc",
        "outputId": "3bb2fd92-ba48-4152-aacf-7790b5a96437"
      },
      "execution_count": null,
      "outputs": [
        {
          "output_type": "stream",
          "name": "stdout",
          "text": [
            "[2.53485001 3.20576966]\n",
            "3.525057726966839\n"
          ]
        },
        {
          "output_type": "execute_result",
          "data": {
            "text/plain": [
              "(None, None)"
            ]
          },
          "metadata": {},
          "execution_count": 91
        }
      ]
    },
    {
      "cell_type": "code",
      "source": [
        "y_pred"
      ],
      "metadata": {
        "colab": {
          "base_uri": "https://localhost:8080/"
        },
        "id": "gGiA5R_gZKuT",
        "outputId": "057fd8b8-04a0-41e1-a643-115fd1f6b4bb"
      },
      "execution_count": null,
      "outputs": [
        {
          "output_type": "execute_result",
          "data": {
            "text/plain": [
              "array([7.08858731, 5.23105855, 7.61424276, 7.35306731, 7.26832912,\n",
              "       5.68409584, 8.3370331 , 6.2438079 , 4.17608643, 5.89765292,\n",
              "       5.34208165, 6.63752008, 7.30139983, 5.31216171, 7.75368637,\n",
              "       6.3484449 , 6.62841499, 5.63792891, 5.99426989, 5.11413767])"
            ]
          },
          "metadata": {},
          "execution_count": 92
        }
      ]
    },
    {
      "cell_type": "code",
      "source": [
        "from sklearn.metrics import mean_squared_error as mse \n",
        "mse(y_test ,y_pred )"
      ],
      "metadata": {
        "colab": {
          "base_uri": "https://localhost:8080/"
        },
        "id": "YACBihPVVyQC",
        "outputId": "f795f721-e062-4b6b-bd28-8e09bf9df66f"
      },
      "execution_count": null,
      "outputs": [
        {
          "output_type": "execute_result",
          "data": {
            "text/plain": [
              "0.9266747539854171"
            ]
          },
          "metadata": {},
          "execution_count": 94
        }
      ]
    },
    {
      "cell_type": "code",
      "source": [],
      "metadata": {
        "id": "0NplPRVTWAIh"
      },
      "execution_count": null,
      "outputs": []
    },
    {
      "cell_type": "code",
      "source": [],
      "metadata": {
        "id": "qHO410xUWTTR"
      },
      "execution_count": null,
      "outputs": []
    }
  ]
}