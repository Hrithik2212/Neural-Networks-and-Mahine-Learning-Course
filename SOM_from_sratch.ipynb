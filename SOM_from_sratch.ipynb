{
  "nbformat": 4,
  "nbformat_minor": 0,
  "metadata": {
    "colab": {
      "provenance": [],
      "authorship_tag": "ABX9TyOi7lAIQDL7ynFa5u7zO4Qf",
      "include_colab_link": true
    },
    "kernelspec": {
      "name": "python3",
      "display_name": "Python 3"
    },
    "language_info": {
      "name": "python"
    }
  },
  "cells": [
    {
      "cell_type": "markdown",
      "metadata": {
        "id": "view-in-github",
        "colab_type": "text"
      },
      "source": [
        "<a href=\"https://colab.research.google.com/github/Hrithik2212/Neural-Networks-and-Mahine-Learning-Course/blob/main/SOM_from_sratch.ipynb\" target=\"_parent\"><img src=\"https://colab.research.google.com/assets/colab-badge.svg\" alt=\"Open In Colab\"/></a>"
      ]
    },
    {
      "cell_type": "markdown",
      "source": [
        "# Self Organizing Map"
      ],
      "metadata": {
        "id": "KmMRGY4mMYaT"
      }
    },
    {
      "cell_type": "code",
      "source": [
        "import math\n",
        "\n",
        "class SOM : \n",
        "  def winner(self , weights , X):\n",
        "\n",
        "    D1 , D0 = 0 , 0\n",
        "    for i in range(len(X)):\n",
        "      D0 += math.pow((X[i]-weights[0][i]),2)\n",
        "      D1 += math.pow((X[i]-weights[1][i]),2)\n",
        "    if D0 > D1 :\n",
        "        return 0;\n",
        "    else :\n",
        "        return 1;\n",
        "   \n",
        "  def update(self , weights , X ,J , lr ):\n",
        "    for i in range(len(weights)):\n",
        "      weights[J][i] = weights[J][i] + lr * (X[i] - weights[J][i])\n",
        "    return weights\n"
      ],
      "metadata": {
        "id": "7r0W57IWMbRw"
      },
      "execution_count": 7,
      "outputs": []
    },
    {
      "cell_type": "code",
      "source": [
        "T = [[1,1,0,0],[0,0,0,1],[1,0,0,0],[0,0,1,1]]\n",
        "\n",
        "m,n = len(T) , len(T[0])\n",
        "\n",
        "weights = [[0.2,0.6,0.5,0.9], [0.8,0.4,0.7,0.3]]\n",
        "\n",
        "som = SOM()\n",
        "epochs = 3 \n",
        "lr = 0.5\n",
        "\n",
        "for epoch in range(epochs):\n",
        "  for j in range(m):\n",
        "    X = T[j]\n",
        "    J = som.winner(weights , X )\n",
        "    weights = som.update(weights , X , J , lr )\n",
        "  \n",
        "s = [0,0,0,1]\n",
        "J = som.winner(weights , s)\n",
        "\n",
        "print('Test sample belongs to cluster :',J)\n",
        "\n"
      ],
      "metadata": {
        "colab": {
          "base_uri": "https://localhost:8080/"
        },
        "id": "13ybdbetNq3u",
        "outputId": "748975b1-937a-49eb-f84c-482f23b549fb"
      },
      "execution_count": 8,
      "outputs": [
        {
          "output_type": "stream",
          "name": "stdout",
          "text": [
            "Test sample belongs to cluster : 1\n"
          ]
        }
      ]
    },
    {
      "cell_type": "code",
      "source": [
        "print(\"Weights :\")\n",
        "print(weights[0] ,'\\n', weights[1])"
      ],
      "metadata": {
        "colab": {
          "base_uri": "https://localhost:8080/"
        },
        "id": "IURMf_fRO0Pj",
        "outputId": "8c37d491-8828-4951-b81c-485e6a624673"
      },
      "execution_count": 12,
      "outputs": [
        {
          "output_type": "stream",
          "name": "stdout",
          "text": [
            "Weights :\n",
            "[0.3390625, 0.071875, 0.5, 0.9] \n",
            " [0.2, 0.1, 0.7, 0.3]\n"
          ]
        }
      ]
    },
    {
      "cell_type": "code",
      "source": [],
      "metadata": {
        "id": "OviJjoSuPF_i"
      },
      "execution_count": null,
      "outputs": []
    }
  ]
}